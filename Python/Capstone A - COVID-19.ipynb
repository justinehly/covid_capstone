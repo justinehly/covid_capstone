{
 "cells": [
  {
   "cell_type": "markdown",
   "id": "e9f53bd5",
   "metadata": {},
   "source": [
    "# <font color='yellow'>Capstone A</font>\n",
    "## <font color='yellow'>Using Hospital Bed Capacity Prediction During COVID-19 to Determine Feature Importance</font>\n",
    "\n",
    "<b>Abstract.</b>  The Covid-19 pandemic has led to the generation of multiple types of models and feature selection methods in the field of Machine Learning. Since there has been rapid change and new regulations being introduced during the pandemic, modeling and feature selection methods have become increasingly complicated. The purpose of this study is to investigate and dive into key features to help create an understanding for the public and help show preventive measures. This study focuses on the exploration of feature selection though building multiple models, one simple linear model, one more complex model and an average of the two for prediction on impatient hospitalization rates.<br><br>\n",
    "\n",
    "<b>Authors:</b>\n",
    "* Helen Barrera, SMU MSDS Student\n",
    "* Justin Ehly, SMU MSDS Student\n",
    "* Blake Freeman, SMU MSDS Student\n",
    "* Brad Blanchard, SMU Faculty\n",
    "* Chris Papesh, UNLV Faculty"
   ]
  },
  {
   "cell_type": "code",
   "execution_count": 334,
   "id": "72e5de1d",
   "metadata": {},
   "outputs": [],
   "source": [
    "import numpy as np\n",
    "import pandas as pd\n",
    "import os\n",
    "import matplotlib.pyplot as plt\n",
    "import seaborn as sbs\n",
    "import copy\n",
    "\n",
    "# change OS Justin\n",
    "#os.chdir(r'C:\\Users\\justi\\github\\covid_Capstone\\data')\n",
    "os.chdir('/users/justinehly/github/covid_capstone/data')\n"
   ]
  },
  {
   "cell_type": "code",
   "execution_count": 335,
   "id": "dcfda47b",
   "metadata": {},
   "outputs": [],
   "source": [
    "df = pd.read_csv('OxCGRT_latest.csv', low_memory=False)\n",
    "\n",
    "# create dataframe of only USA State level data\n",
    "covid = copy.deepcopy(df.loc[(df.RegionName.notna()) & (df.CountryCode == 'USA')]) \n",
    "covid.reset_index(drop=True, inplace=True)"
   ]
  },
  {
   "cell_type": "code",
   "execution_count": 336,
   "id": "dc14f5d6",
   "metadata": {},
   "outputs": [],
   "source": [
    "#covid.info()"
   ]
  },
  {
   "cell_type": "code",
   "execution_count": 337,
   "id": "97f7d7d7",
   "metadata": {},
   "outputs": [],
   "source": [
    "# fix date column\n",
    "from datetime import datetime\n",
    "covid.Date = pd.to_datetime(covid.Date, format='%Y%m%d')\n",
    "\n",
    "# create the state column for the data merge (this was determined at a later ddate from the initial pull and added back into the main pipeline)\n",
    "covid['state'] = covid.RegionCode.str.slice(-2)\n",
    "\n",
    "# put the state column first (this will help when dealing with data later)\n",
    "cols = list(covid.columns)\n",
    "cols = [cols[-1]] + cols[:-1]\n",
    "covid = covid[cols]\n",
    "\n",
    "# drop 'CountryName', 'CountryCode', 'RegionName', 'RegionCode','Jurisdiction' because they will not be needed moving forward since we are working at the state level and only in the USA\n",
    "# drop the wildcard since it is blank\n",
    "# drop StringentLegacyIndexForDisplay because it is recommended to not use and is an approximation of the newer StringencyIndex. Documentation says it can be included for continuity purposes\n",
    "covid = covid.drop(columns =['CountryName', 'CountryCode', 'RegionName', 'RegionCode',\n",
    "       'Jurisdiction', 'M1_Wildcard', 'StringencyLegacyIndexForDisplay'])"
   ]
  },
  {
   "cell_type": "code",
   "execution_count": 338,
   "id": "e2d50277",
   "metadata": {},
   "outputs": [
    {
     "name": "stdout",
     "output_type": "stream",
     "text": [
      "2020-01-01 00:00:00 2021-10-16 00:00:00\n"
     ]
    }
   ],
   "source": [
    "# get date range\n",
    "print(covid.Date.min(), covid.Date.max())"
   ]
  },
  {
   "cell_type": "code",
   "execution_count": 339,
   "id": "95a67e50",
   "metadata": {},
   "outputs": [
    {
     "data": {
      "text/plain": [
       "(Timestamp('2020-01-24 00:00:00'), Timestamp('2021-05-27 00:00:00'))"
      ]
     },
     "execution_count": 339,
     "metadata": {},
     "output_type": "execute_result"
    }
   ],
   "source": [
    "\n",
    "# reduce covid df to friday 01-24-20 thru thursday 05-27-21 to match the other data set from the USGovt website\n",
    "covid.reset_index(inplace=True, drop=True)\n",
    "start_date = pd.to_datetime('20200124')\n",
    "end_date = pd.to_datetime('20210527')\n",
    "date_reduce_idx = np.where((covid.Date >= start_date) & (covid.Date <= end_date))\n",
    "covid = covid.loc[date_reduce_idx]\n",
    "covid.reset_index(inplace=True, drop=True)\n",
    "min(covid.Date), max(covid.Date)"
   ]
  },
  {
   "cell_type": "code",
   "execution_count": 340,
   "id": "72a6c082",
   "metadata": {},
   "outputs": [
    {
     "name": "stdout",
     "output_type": "stream",
     "text": [
      "Total weeks in the dataset: 70\n"
     ]
    }
   ],
   "source": [
    "print('Total weeks in the dataset: %d' % (covid.shape[0]/7/51))"
   ]
  },
  {
   "cell_type": "code",
   "execution_count": 341,
   "id": "1b011bec",
   "metadata": {},
   "outputs": [
    {
     "data": {
      "text/html": [
       "<div>\n",
       "<style scoped>\n",
       "    .dataframe tbody tr th:only-of-type {\n",
       "        vertical-align: middle;\n",
       "    }\n",
       "\n",
       "    .dataframe tbody tr th {\n",
       "        vertical-align: top;\n",
       "    }\n",
       "\n",
       "    .dataframe thead th {\n",
       "        text-align: right;\n",
       "    }\n",
       "</style>\n",
       "<table border=\"1\" class=\"dataframe\">\n",
       "  <thead>\n",
       "    <tr style=\"text-align: right;\">\n",
       "      <th></th>\n",
       "      <th>count</th>\n",
       "      <th>mean</th>\n",
       "      <th>std</th>\n",
       "      <th>min</th>\n",
       "      <th>25%</th>\n",
       "      <th>50%</th>\n",
       "      <th>75%</th>\n",
       "      <th>max</th>\n",
       "    </tr>\n",
       "  </thead>\n",
       "  <tbody>\n",
       "    <tr>\n",
       "      <th>C1_School closing</th>\n",
       "      <td>24982.0</td>\n",
       "      <td>1.976863</td>\n",
       "      <td>0.947242</td>\n",
       "      <td>0.00</td>\n",
       "      <td>2.00</td>\n",
       "      <td>2.00</td>\n",
       "      <td>3.00</td>\n",
       "      <td>3.00</td>\n",
       "    </tr>\n",
       "    <tr>\n",
       "      <th>C1_Flag</th>\n",
       "      <td>22351.0</td>\n",
       "      <td>0.417610</td>\n",
       "      <td>0.493176</td>\n",
       "      <td>0.00</td>\n",
       "      <td>0.00</td>\n",
       "      <td>0.00</td>\n",
       "      <td>1.00</td>\n",
       "      <td>1.00</td>\n",
       "    </tr>\n",
       "    <tr>\n",
       "      <th>C2_Workplace closing</th>\n",
       "      <td>24950.0</td>\n",
       "      <td>1.397836</td>\n",
       "      <td>0.782619</td>\n",
       "      <td>0.00</td>\n",
       "      <td>1.00</td>\n",
       "      <td>1.00</td>\n",
       "      <td>2.00</td>\n",
       "      <td>3.00</td>\n",
       "    </tr>\n",
       "    <tr>\n",
       "      <th>C2_Flag</th>\n",
       "      <td>22077.0</td>\n",
       "      <td>0.775966</td>\n",
       "      <td>0.416954</td>\n",
       "      <td>0.00</td>\n",
       "      <td>1.00</td>\n",
       "      <td>1.00</td>\n",
       "      <td>1.00</td>\n",
       "      <td>1.00</td>\n",
       "    </tr>\n",
       "    <tr>\n",
       "      <th>C3_Cancel public events</th>\n",
       "      <td>24969.0</td>\n",
       "      <td>1.296568</td>\n",
       "      <td>0.638309</td>\n",
       "      <td>0.00</td>\n",
       "      <td>1.00</td>\n",
       "      <td>1.00</td>\n",
       "      <td>2.00</td>\n",
       "      <td>2.00</td>\n",
       "    </tr>\n",
       "    <tr>\n",
       "      <th>C3_Flag</th>\n",
       "      <td>22487.0</td>\n",
       "      <td>0.787700</td>\n",
       "      <td>0.408945</td>\n",
       "      <td>0.00</td>\n",
       "      <td>1.00</td>\n",
       "      <td>1.00</td>\n",
       "      <td>1.00</td>\n",
       "      <td>1.00</td>\n",
       "    </tr>\n",
       "    <tr>\n",
       "      <th>C4_Restrictions on gatherings</th>\n",
       "      <td>24990.0</td>\n",
       "      <td>2.617967</td>\n",
       "      <td>1.579179</td>\n",
       "      <td>0.00</td>\n",
       "      <td>2.00</td>\n",
       "      <td>3.00</td>\n",
       "      <td>4.00</td>\n",
       "      <td>4.00</td>\n",
       "    </tr>\n",
       "    <tr>\n",
       "      <th>C4_Flag</th>\n",
       "      <td>19050.0</td>\n",
       "      <td>0.723465</td>\n",
       "      <td>0.447296</td>\n",
       "      <td>0.00</td>\n",
       "      <td>0.00</td>\n",
       "      <td>1.00</td>\n",
       "      <td>1.00</td>\n",
       "      <td>1.00</td>\n",
       "    </tr>\n",
       "    <tr>\n",
       "      <th>C5_Close public transport</th>\n",
       "      <td>24971.0</td>\n",
       "      <td>0.471907</td>\n",
       "      <td>0.615155</td>\n",
       "      <td>0.00</td>\n",
       "      <td>0.00</td>\n",
       "      <td>0.00</td>\n",
       "      <td>1.00</td>\n",
       "      <td>2.00</td>\n",
       "    </tr>\n",
       "    <tr>\n",
       "      <th>...</th>\n",
       "      <td>...</td>\n",
       "      <td>...</td>\n",
       "      <td>...</td>\n",
       "      <td>...</td>\n",
       "      <td>...</td>\n",
       "      <td>...</td>\n",
       "      <td>...</td>\n",
       "      <td>...</td>\n",
       "    </tr>\n",
       "    <tr>\n",
       "      <th>StringencyIndex</th>\n",
       "      <td>24938.0</td>\n",
       "      <td>53.970639</td>\n",
       "      <td>19.797754</td>\n",
       "      <td>0.00</td>\n",
       "      <td>47.69</td>\n",
       "      <td>56.48</td>\n",
       "      <td>65.74</td>\n",
       "      <td>93.52</td>\n",
       "    </tr>\n",
       "    <tr>\n",
       "      <th>StringencyIndexForDisplay</th>\n",
       "      <td>24938.0</td>\n",
       "      <td>53.970639</td>\n",
       "      <td>19.797754</td>\n",
       "      <td>0.00</td>\n",
       "      <td>47.69</td>\n",
       "      <td>56.48</td>\n",
       "      <td>65.74</td>\n",
       "      <td>93.52</td>\n",
       "    </tr>\n",
       "    <tr>\n",
       "      <th>StringencyLegacyIndex</th>\n",
       "      <td>24961.0</td>\n",
       "      <td>62.015238</td>\n",
       "      <td>20.189850</td>\n",
       "      <td>0.00</td>\n",
       "      <td>58.33</td>\n",
       "      <td>65.00</td>\n",
       "      <td>73.81</td>\n",
       "      <td>96.43</td>\n",
       "    </tr>\n",
       "    <tr>\n",
       "      <th>GovernmentResponseIndex</th>\n",
       "      <td>24924.0</td>\n",
       "      <td>54.134277</td>\n",
       "      <td>17.316270</td>\n",
       "      <td>5.21</td>\n",
       "      <td>50.78</td>\n",
       "      <td>58.23</td>\n",
       "      <td>64.17</td>\n",
       "      <td>80.47</td>\n",
       "    </tr>\n",
       "    <tr>\n",
       "      <th>GovernmentResponseIndexForDisplay</th>\n",
       "      <td>24924.0</td>\n",
       "      <td>54.134277</td>\n",
       "      <td>17.316270</td>\n",
       "      <td>5.21</td>\n",
       "      <td>50.78</td>\n",
       "      <td>58.23</td>\n",
       "      <td>64.17</td>\n",
       "      <td>80.47</td>\n",
       "    </tr>\n",
       "    <tr>\n",
       "      <th>ContainmentHealthIndex</th>\n",
       "      <td>24936.0</td>\n",
       "      <td>54.634539</td>\n",
       "      <td>16.860956</td>\n",
       "      <td>5.95</td>\n",
       "      <td>51.79</td>\n",
       "      <td>58.81</td>\n",
       "      <td>64.29</td>\n",
       "      <td>80.48</td>\n",
       "    </tr>\n",
       "    <tr>\n",
       "      <th>ContainmentHealthIndexForDisplay</th>\n",
       "      <td>24936.0</td>\n",
       "      <td>54.634539</td>\n",
       "      <td>16.860956</td>\n",
       "      <td>5.95</td>\n",
       "      <td>51.79</td>\n",
       "      <td>58.81</td>\n",
       "      <td>64.29</td>\n",
       "      <td>80.48</td>\n",
       "    </tr>\n",
       "    <tr>\n",
       "      <th>EconomicSupportIndex</th>\n",
       "      <td>24849.0</td>\n",
       "      <td>50.694193</td>\n",
       "      <td>26.506229</td>\n",
       "      <td>0.00</td>\n",
       "      <td>37.50</td>\n",
       "      <td>50.00</td>\n",
       "      <td>62.50</td>\n",
       "      <td>100.00</td>\n",
       "    </tr>\n",
       "    <tr>\n",
       "      <th>EconomicSupportIndexForDisplay</th>\n",
       "      <td>24849.0</td>\n",
       "      <td>50.694193</td>\n",
       "      <td>26.506229</td>\n",
       "      <td>0.00</td>\n",
       "      <td>37.50</td>\n",
       "      <td>50.00</td>\n",
       "      <td>62.50</td>\n",
       "      <td>100.00</td>\n",
       "    </tr>\n",
       "  </tbody>\n",
       "</table>\n",
       "<p>43 rows × 8 columns</p>\n",
       "</div>"
      ],
      "text/plain": [
       "                                     count       mean        std   min    25%  \\\n",
       "C1_School closing                  24982.0   1.976863   0.947242  0.00   2.00   \n",
       "C1_Flag                            22351.0   0.417610   0.493176  0.00   0.00   \n",
       "C2_Workplace closing               24950.0   1.397836   0.782619  0.00   1.00   \n",
       "C2_Flag                            22077.0   0.775966   0.416954  0.00   1.00   \n",
       "C3_Cancel public events            24969.0   1.296568   0.638309  0.00   1.00   \n",
       "C3_Flag                            22487.0   0.787700   0.408945  0.00   1.00   \n",
       "C4_Restrictions on gatherings      24990.0   2.617967   1.579179  0.00   2.00   \n",
       "C4_Flag                            19050.0   0.723465   0.447296  0.00   0.00   \n",
       "C5_Close public transport          24971.0   0.471907   0.615155  0.00   0.00   \n",
       "...                                    ...        ...        ...   ...    ...   \n",
       "StringencyIndex                    24938.0  53.970639  19.797754  0.00  47.69   \n",
       "StringencyIndexForDisplay          24938.0  53.970639  19.797754  0.00  47.69   \n",
       "StringencyLegacyIndex              24961.0  62.015238  20.189850  0.00  58.33   \n",
       "GovernmentResponseIndex            24924.0  54.134277  17.316270  5.21  50.78   \n",
       "GovernmentResponseIndexForDisplay  24924.0  54.134277  17.316270  5.21  50.78   \n",
       "ContainmentHealthIndex             24936.0  54.634539  16.860956  5.95  51.79   \n",
       "ContainmentHealthIndexForDisplay   24936.0  54.634539  16.860956  5.95  51.79   \n",
       "EconomicSupportIndex               24849.0  50.694193  26.506229  0.00  37.50   \n",
       "EconomicSupportIndexForDisplay     24849.0  50.694193  26.506229  0.00  37.50   \n",
       "\n",
       "                                     50%    75%     max  \n",
       "C1_School closing                   2.00   3.00    3.00  \n",
       "C1_Flag                             0.00   1.00    1.00  \n",
       "C2_Workplace closing                1.00   2.00    3.00  \n",
       "C2_Flag                             1.00   1.00    1.00  \n",
       "C3_Cancel public events             1.00   2.00    2.00  \n",
       "C3_Flag                             1.00   1.00    1.00  \n",
       "C4_Restrictions on gatherings       3.00   4.00    4.00  \n",
       "C4_Flag                             1.00   1.00    1.00  \n",
       "C5_Close public transport           0.00   1.00    2.00  \n",
       "...                                  ...    ...     ...  \n",
       "StringencyIndex                    56.48  65.74   93.52  \n",
       "StringencyIndexForDisplay          56.48  65.74   93.52  \n",
       "StringencyLegacyIndex              65.00  73.81   96.43  \n",
       "GovernmentResponseIndex            58.23  64.17   80.47  \n",
       "GovernmentResponseIndexForDisplay  58.23  64.17   80.47  \n",
       "ContainmentHealthIndex             58.81  64.29   80.48  \n",
       "ContainmentHealthIndexForDisplay   58.81  64.29   80.48  \n",
       "EconomicSupportIndex               50.00  62.50  100.00  \n",
       "EconomicSupportIndexForDisplay     50.00  62.50  100.00  \n",
       "\n",
       "[43 rows x 8 columns]"
      ]
     },
     "execution_count": 341,
     "metadata": {},
     "output_type": "execute_result"
    }
   ],
   "source": [
    "desc = pd.DataFrame(covid.describe())\n",
    "desc.T"
   ]
  },
  {
   "cell_type": "markdown",
   "id": "b51a0c39",
   "metadata": {},
   "source": [
    "---\n",
    "### <font color='yellow'>Missing Values</font>\n",
    "---\n",
    "codebook https://github.com/OxCGRT/covid-policy-tracker/blob/master/documentation/codebook.md\n",
    "\n",
    "- <b>Indidcators and Flags C1 - H8</b> \n",
    "    - Indicators (with the exception of E3 (USD) 0 = no new spending that day, E4 (USD) 0 = no new spending that day, H4 (USD)  0 = no new spending that day, H5 (USD) 0 = no new spending that day and M1) are oridinal and used to compute the indicies so should remain ordinal, but as integers and within the original range\n",
    "    - Flags are binary and are weights for the indicators so NaN are ok to impute at 0, if there is NaN between 0-1, then it is suggested to take the average to via interpolation to not create unnecessary bias\n",
    "    - Index are computed values from the Indicators and corresponding Flags based on algorithms. \n",
    "        - There are 2 versions of the index reported, \n",
    "            - Regular version that will return null there is not enough data for the calcutionn\n",
    "            - ***Display version that is a smoother version and is extrapolated using the previous 7 days if there is complete data \\* <font color='blue'>Suggest to use this version</font>***\n",
    "            - https://github.com/OxCGRT/covid-policy-tracker/blob/master/documentation/index_methodology.md\n",
    "\n",
    "    <br><br>\n",
    "- <b>Changes to be aware of:</b>\n",
    "    - 27 September 2021: v3.4 note about removal of E3, E4 and H4\n",
    "    - 28 June 2021: v3.3 presenting the imputed vaccine indicators (V2 summary and V3 summary) into a separate table\n",
    "    - 21 June 2021: v3.02 edits to vaccine policy indicators table, fixing age ranges12 June 2021: v3.01 added section for vaccine policies\n",
    "    - 5 May 2021: v2.10 added 'or all businesses open with alterations resulting in significant differences compared to non-Covid-19 operations' to C2 level 1\n",
    "    - 18 March 2021: v2.9 added H8 'Protection of elderly people' indicator\n",
    "    - 05 March 2021: v2.8 added 'non elderly' to definition of Clinically vulnerable groups' for H7\n",
    "    - 14 January 2021: v2.7 changed 'country' to 'country/territory' and removed 'private' from C4 definition, replaced E1 flag 'formal sector workers only' to 'formal sector workers only or informal sector workers only', and 'informal workers too' to 'all workers'"
   ]
  },
  {
   "cell_type": "code",
   "execution_count": 342,
   "id": "e937d29b",
   "metadata": {},
   "outputs": [],
   "source": [
    "# separate the indicators (orindal indicies) from the flags (binary weights) and the indicies for imputing\n",
    "cols = list(covid.columns)\n",
    "\n",
    "flags = [feat for feat in cols if feat[-4:] == 'Flag'] # just get a list of the flags\n",
    "\n",
    "indicators = [feat for feat in cols[2:34] if feat[-4:] != 'Flag'] # get a list of the idicators\n",
    "\n",
    "\n",
    "index = [item for item in cols[2:] if ((item not in flags) and (item not in indicators))] # list of the indicies without the state or date that are cols[:2]\n",
    "\n",
    "# Drop the Index rows and keep the IndexDisplay rows that are smoothed from the dataset creators\n",
    "idx_to_drop = [i for i in index[2:] if (i[-7:] != 'Display')] \n",
    "display_index = [i for i in index[2:] if (i[-7:] == 'Display')] # just keep the Display Indicies\n",
    "\n",
    "covid = covid.drop(columns = idx_to_drop)\n",
    "\n",
    "# save memory\n",
    "del index\n",
    "del idx_to_drop\n"
   ]
  },
  {
   "cell_type": "code",
   "execution_count": 343,
   "metadata": {},
   "outputs": [],
   "source": [
    "# impute missing Flag values\n",
    "def flag_impute(flags):\n",
    "    flags = flags\n",
    "    for x,c in enumerate(flags): # cycle through the cols\n",
    "        for i in range(len(flags[c])):  # cycle through each row\n",
    "            if np.isnan(flags.iloc[i,x]):\n",
    "                if (i == 0): flags.iloc[i,x] = 0  # first cell is NaN set to 0\n",
    "                elif (i != (len(flags[c])-1)):\n",
    "                    # prior cell = 0 (0, NaN, next_cell)\n",
    "                    if (flags.iloc[i-1,x] == 0) & (np.isnan(flags.iloc[i+1, x])): flags.iloc[i,x] = 0 # (0, NaN, NaN), set to 0\n",
    "                    elif (flags.iloc[i-1,x] == 0) & (flags.iloc[i+1, x] == 1): flags.iloc[i,x] = 0.5 # (0, NaN, 1), set to 0.5\n",
    "                    elif (flags.iloc[i-1,x] == 0) & (flags.iloc[i+1, x] == 0): flags.iloc[i,x] = 0 # (0, NaN, 0), set to 0\n",
    "\n",
    "                    #pior cell = 1 (1, NaN, next_cell)\n",
    "                    elif (flags.iloc[i-1,x] == 1) & (np.isnan(flags.iloc[i+1, x])): flags.iloc[i,x] = 0 # (1, NaN, NaN), set to 0\n",
    "                    elif (flags.iloc[i-1,x] == 1) & (flags.iloc[i+1, x] == 1): flags.iloc[i,x] = 1 # (1, NaN, 1), set to 1\n",
    "                    elif (flags.iloc[i-1,x] == 1) & (flags.iloc[i+1, x] == 0): flags.iloc[i,x] = 0.5 # (1, NaN, 0), set to 0.5 (not biased)\n",
    "                else: flags.iloc[i,x] = flags.iloc[i-1,x]\n",
    "\n",
    "    return flags\n",
    "\n",
    "indicator_flags = copy.deepcopy(covid[flags])\n",
    "covid[flags] = flag_impute(indicator_flags)\n"
   ]
  },
  {
   "cell_type": "code",
   "execution_count": 344,
   "metadata": {},
   "outputs": [],
   "source": [
    "# impute missing Indicator values using interpolate with limit not set, so that all NaN's in long stretches are filled in, more than likely with a zero.\n",
    "# this data wll be combined to form weekly data and a mean of the index will be taken in each row and then rounded for a final result\n",
    "covid_ind = copy.deepcopy(covid[indicators])\n",
    "covid_ind = covid_ind.interpolate(method = 'linear', aixs = 1, limit_direction = 'both')\n",
    "covid[indicators] = covid_ind\n",
    "         \n",
    "            \n",
    "     "
   ]
  },
  {
   "cell_type": "code",
   "execution_count": 345,
   "metadata": {},
   "outputs": [
    {
     "data": {
      "text/plain": [
       "C1_School closing                        0\n",
       "C2_Workplace closing                     0\n",
       "C3_Cancel public events                  0\n",
       "C4_Restrictions on gatherings            0\n",
       "C5_Close public transport                0\n",
       "C6_Stay at home requirements             0\n",
       "C7_Restrictions on internal movement     0\n",
       "C8_International travel controls         0\n",
       "E1_Income support                        0\n",
       "E2_Debt/contract relief                  0\n",
       "E3_Fiscal measures                       0\n",
       "E4_International support                 0\n",
       "H1_Public information campaigns          0\n",
       "H2_Testing policy                        0\n",
       "H3_Contact tracing                       0\n",
       "H4_Emergency investment in healthcare    0\n",
       "H5_Investment in vaccines                0\n",
       "H6_Facial Coverings                      0\n",
       "H7_Vaccination policy                    0\n",
       "H8_Protection of elderly people          0\n",
       "dtype: int64"
      ]
     },
     "execution_count": 345,
     "metadata": {},
     "output_type": "execute_result"
    }
   ],
   "source": [
    "covid[indicators].isnull().sum()\n"
   ]
  },
  {
   "cell_type": "code",
   "execution_count": 346,
   "metadata": {},
   "outputs": [
    {
     "data": {
      "text/plain": [
       "StringencyIndexForDisplay            53.970639\n",
       "GovernmentResponseIndexForDisplay    54.134277\n",
       "ContainmentHealthIndexForDisplay     54.634539\n",
       "EconomicSupportIndexForDisplay       50.694193\n",
       "dtype: float64"
      ]
     },
     "execution_count": 346,
     "metadata": {},
     "output_type": "execute_result"
    }
   ],
   "source": [
    "covid[display_index].mean()"
   ]
  },
  {
   "cell_type": "markdown",
   "metadata": {},
   "source": [
    "### <font  color = 'yellow'> Missing Index Values</font>\n",
    "- missing data appears in large chunks and based on the documentation, raw index value are very stringent on returning a null value where display values are a smoothed variation based on a 7-day rolling perdiod.\n",
    "- sine the missing data for the index calculations was imputed, the NaN values can be computed using the formulas provided by the documentation.\n",
    "- sub_index scores: I{j,t} = 100 * (v{j,t} - 0.5(F{j} - f{j,t})) / (N{j})  where t = time, we can ignore since we are calculating each day individually\n",
    "    - Nj: max value of indicator\n",
    "    - Fj: flag variable (1 = yes)\n",
    "    - v{j,t}: policy value\n",
    "    - f{j,t}: flag value\n",
    "\n",
    "- index = 1/k * sum(Ij{j=i..k}) \n",
    "    - StringInd = k=9, sum(C1:C8, H1) / 9\n",
    "    - GovResponse = k=16, sum(C1:C8, E1:E2, H1:H3, H6:H8)/ 16\n",
    "    - ContainHealth = k=14, sum(C1:C8, H1:H3, H6:H8) / 14\n",
    "    - EconSupp = k=2, sum(E1,E2) / 2\n"
   ]
  },
  {
   "cell_type": "markdown",
   "metadata": {},
   "source": []
  },
  {
   "cell_type": "code",
   "execution_count": 347,
   "metadata": {},
   "outputs": [],
   "source": [
    "# formuals for each index\n",
    "# create the Nj data\n",
    "\n",
    "def ind_keys():\n",
    "    ind_c = ['C'+str(i) for i in range(1,9,1)]\n",
    "    ind_e = ['E1', 'E2']\n",
    "    ind_h = ['H'+str(i) for i in range(1,9,1)]\n",
    "    ind_h.remove('H4')\n",
    "    ind_h.remove('H5')\n",
    "    keys = ind_c + ind_e + ind_h\n",
    "    return keys\n",
    "\n",
    "def Nj():\n",
    "    keys = ind_keys()    \n",
    "    ind_ci = [3,3,2,4,2,3,2,4]\n",
    "    ind_ei = [2,2]\n",
    "    ind_hi = [2,3,2,4,5,3]\n",
    "    values = ind_ci + ind_ei + ind_hi\n",
    "    Nj = {key: value for key, value in zip(keys, values)}\n",
    "    return Nj\n",
    "\n",
    "def Fj():\n",
    "    keys = ind_keys()\n",
    "    values = [1,1,1,1,1,1,1,0,1,0,1,0,0,1,1,1]\n",
    "    Fj = {key: value for key, value in zip(keys, values)}\n",
    "    return Fj\n",
    "\n",
    "keys = ind_keys()\n",
    "Nj = {k: v for k,v in Nj().items()}\n",
    "Fj = {k: v for k,v in Fj().items()}\n",
    "#print(Nj)\n",
    "#print(Fj)\n",
    "\n",
    "# Build Indicators for missing Indices\n",
    "missing_display = copy.deepcopy(covid[covid[display_index].isna().any(axis=1)]) #missing value indexes\n",
    "\n",
    "ran = range(2,len(list(missing_display.columns))-6,2)  # create a range that covers every other number, starting with index=2 (3rd position in the list/ df)\n",
    "for i, x in enumerate(ran):   \n",
    "    vjt = np.array(missing_display.iloc[:,x])\n",
    "    fjt = np.array(missing_display.iloc[:,x+1])\n",
    "    missing_display[keys[i]] = np.where(vjt != 0, 100 * ((vjt - 0.5*(Fj[keys[i]] - fjt)) / Nj[keys[i]]), 0)\n",
    "    #print(i,x,missing_display[keys[i]])\n",
    "\n",
    "#print(missing_display.iloc[:,-16:])\n",
    "\n",
    "# Impute Missing Indices\n",
    "# build a dictionary of k's and df cols\n",
    "values = {\n",
    "    'col': display_index,\n",
    "    'k': [9, 16, 14, 2], \n",
    "    'idx': [np.r_[40:48,50], np.r_[40:56], np.r_[40:48,50:56], np.r_[48,49]]}\n",
    "\n",
    "#index_vars = {key: value for key, value in zip(display_index,values)}\n",
    "\n",
    "for i in range(4):\n",
    "    condition = missing_display[values['col'][i]].isna() # only replace values that are NaN\n",
    "    k = values['k'][i]  # k value for the index\n",
    "    indicator_sum = missing_display.iloc[:,values['idx'][i]].sum(axis=1)  # sum of the indicators for the index value\n",
    "    missing_display[values['col'][i]] = np.where(condition, indicator_sum / k, condition)\n",
    "\n"
   ]
  },
  {
   "cell_type": "code",
   "execution_count": 348,
   "metadata": {},
   "outputs": [
    {
     "data": {
      "text/plain": [
       "StringencyIndexForDisplay            0\n",
       "GovernmentResponseIndexForDisplay    0\n",
       "ContainmentHealthIndexForDisplay     0\n",
       "EconomicSupportIndexForDisplay       0\n",
       "dtype: int64"
      ]
     },
     "execution_count": 348,
     "metadata": {},
     "output_type": "execute_result"
    }
   ],
   "source": [
    "missing_display[display_index].isna().sum()"
   ]
  },
  {
   "cell_type": "code",
   "execution_count": 369,
   "metadata": {},
   "outputs": [],
   "source": [
    "mdx = missing_display.index\n",
    "covid.iloc[mdx,np.r_[36:40]] = missing_display[display_index] # assign the columns back that no longer have NaN\n"
   ]
  },
  {
   "cell_type": "code",
   "execution_count": 372,
   "metadata": {},
   "outputs": [
    {
     "name": "stdout",
     "output_type": "stream",
     "text": [
      "<class 'pandas.core.frame.DataFrame'>\n",
      "RangeIndex: 24990 entries, 0 to 24989\n",
      "Data columns (total 40 columns):\n",
      " #   Column                                 Non-Null Count  Dtype         \n",
      "---  ------                                 --------------  -----         \n",
      " 0   state                                  24990 non-null  object        \n",
      " 1   Date                                   24990 non-null  datetime64[ns]\n",
      " 2   C1_School closing                      24990 non-null  float64       \n",
      " 3   C1_Flag                                24990 non-null  float64       \n",
      " 4   C2_Workplace closing                   24990 non-null  float64       \n",
      " 5   C2_Flag                                24990 non-null  float64       \n",
      " 6   C3_Cancel public events                24990 non-null  float64       \n",
      " 7   C3_Flag                                24990 non-null  float64       \n",
      " 8   C4_Restrictions on gatherings          24990 non-null  float64       \n",
      " 9   C4_Flag                                24990 non-null  float64       \n",
      " 10  C5_Close public transport              24990 non-null  float64       \n",
      " 11  C5_Flag                                24990 non-null  float64       \n",
      " 12  C6_Stay at home requirements           24990 non-null  float64       \n",
      " 13  C6_Flag                                24990 non-null  float64       \n",
      " 14  C7_Restrictions on internal movement   24990 non-null  float64       \n",
      " 15  C7_Flag                                24990 non-null  float64       \n",
      " 16  C8_International travel controls       24990 non-null  float64       \n",
      " 17  E1_Income support                      24990 non-null  float64       \n",
      " 18  E1_Flag                                24990 non-null  float64       \n",
      " 19  E2_Debt/contract relief                24990 non-null  float64       \n",
      " 20  E3_Fiscal measures                     24990 non-null  float64       \n",
      " 21  E4_International support               24990 non-null  float64       \n",
      " 22  H1_Public information campaigns        24990 non-null  float64       \n",
      " 23  H1_Flag                                24990 non-null  float64       \n",
      " 24  H2_Testing policy                      24990 non-null  float64       \n",
      " 25  H3_Contact tracing                     24990 non-null  float64       \n",
      " 26  H4_Emergency investment in healthcare  24990 non-null  float64       \n",
      " 27  H5_Investment in vaccines              24990 non-null  float64       \n",
      " 28  H6_Facial Coverings                    24990 non-null  float64       \n",
      " 29  H6_Flag                                24990 non-null  float64       \n",
      " 30  H7_Vaccination policy                  24990 non-null  float64       \n",
      " 31  H7_Flag                                24990 non-null  float64       \n",
      " 32  H8_Protection of elderly people        24990 non-null  float64       \n",
      " 33  H8_Flag                                24990 non-null  float64       \n",
      " 34  ConfirmedCases                         24990 non-null  float64       \n",
      " 35  ConfirmedDeaths                        24990 non-null  float64       \n",
      " 36  StringencyIndexForDisplay              24990 non-null  float64       \n",
      " 37  GovernmentResponseIndexForDisplay      24990 non-null  float64       \n",
      " 38  ContainmentHealthIndexForDisplay       24990 non-null  float64       \n",
      " 39  EconomicSupportIndexForDisplay         24990 non-null  float64       \n",
      "dtypes: datetime64[ns](1), float64(38), object(1)\n",
      "memory usage: 7.6+ MB\n"
     ]
    }
   ],
   "source": [
    "covid.info()"
   ]
  },
  {
   "cell_type": "markdown",
   "metadata": {},
   "source": [
    "---\n",
    "### Done Imputing\n",
    "---"
   ]
  },
  {
   "cell_type": "code",
   "execution_count": null,
   "metadata": {},
   "outputs": [],
   "source": []
  },
  {
   "cell_type": "code",
   "execution_count": null,
   "id": "292964fd",
   "metadata": {},
   "outputs": [
    {
     "data": {
      "text/plain": [
       "'C1'"
      ]
     },
     "execution_count": 162,
     "metadata": {},
     "output_type": "execute_result"
    }
   ],
   "source": [
    "\n"
   ]
  },
  {
   "cell_type": "code",
   "execution_count": null,
   "id": "2664c0b6",
   "metadata": {},
   "outputs": [
    {
     "data": {
      "text/plain": [
       "Date                                         0\n",
       "C1_School closing                            8\n",
       "C1_Flag                                   2639\n",
       "C2_Workplace closing                        40\n",
       "C2_Flag                                   2913\n",
       "C3_Cancel public events                     21\n",
       "C3_Flag                                   2503\n",
       "C4_Restrictions on gatherings                0\n",
       "C4_Flag                                   5940\n",
       "C5_Close public transport                   19\n",
       "C5_Flag                                  14819\n",
       "C6_Stay at home requirements                28\n",
       "C6_Flag                                   4488\n",
       "C7_Restrictions on internal movement        63\n",
       "C7_Flag                                   2675\n",
       "C8_International travel controls            31\n",
       "E1_Income support                           72\n",
       "E1_Flag                                   4974\n",
       "E2_Debt/contract relief                     72\n",
       "E3_Fiscal measures                       14626\n",
       "E4_International support                 14754\n",
       "H1_Public information campaigns              9\n",
       "H1_Flag                                   1137\n",
       "H2_Testing policy                           10\n",
       "H3_Contact tracing                          53\n",
       "H4_Emergency investment in healthcare    14861\n",
       "H5_Investment in vaccines                14685\n",
       "H6_Facial Coverings                        470\n",
       "H6_Flag                                   4028\n",
       "H7_Vaccination policy                    15922\n",
       "H7_Flag                                  16655\n",
       "H8_Protection of elderly people            156\n",
       "H8_Flag                                   2560\n",
       "ConfirmedCases                               0\n",
       "ConfirmedDeaths                              0\n",
       "StringencyIndex                             52\n",
       "StringencyIndexForDisplay                   52\n",
       "StringencyLegacyIndex                       29\n",
       "StringencyLegacyIndexForDisplay             29\n",
       "GovernmentResponseIndex                     66\n",
       "GovernmentResponseIndexForDisplay            0\n",
       "ContainmentHealthIndex                       0\n",
       "ContainmentHealthIndexForDisplay             0\n",
       "EconomicSupportIndex                         0\n",
       "EconomicSupportIndexForDisplay               0\n",
       "state                                        0\n",
       "dtype: int64"
      ]
     },
     "execution_count": 14,
     "metadata": {},
     "output_type": "execute_result"
    }
   ],
   "source": [
    "covid.isna().sum()"
   ]
  },
  {
   "cell_type": "code",
   "execution_count": null,
   "id": "ef4786b3",
   "metadata": {},
   "outputs": [],
   "source": []
  },
  {
   "cell_type": "code",
   "execution_count": null,
   "id": "ca952242",
   "metadata": {},
   "outputs": [],
   "source": []
  },
  {
   "cell_type": "markdown",
   "id": "390c5d79",
   "metadata": {},
   "source": [
    "### Note: \n",
    "https://healthdata.gov/Hospital/COVID-19-Reported-Patient-Impact-and-Hospital-Capa/anag-cw7u\n",
    "from the healthdata.gov data we will get our matching keys:\n",
    "* collection_week: This date indicates the start of the period of reporting (the starting Friday).\n",
    "* state: [FAQ - 1. d)] The two digit state/territory code for the hospital.\n",
    "\n",
    "ToDo:\n",
    "* reduce the DF to a date range to Jan 24th (Friday) - May27 2021 (Thursday) this will match the data set weeks we are merging with\n",
    "* combine the covid dataframe into weekly numbers with weeks beginning on 1/24/20\n",
    "* create a state feature from RegionName\n"
   ]
  },
  {
   "cell_type": "code",
   "execution_count": null,
   "id": "e264d6ae",
   "metadata": {},
   "outputs": [
    {
     "data": {
      "text/plain": [
       "Timestamp('2020-01-30 00:00:00')"
      ]
     },
     "execution_count": 15,
     "metadata": {},
     "output_type": "execute_result"
    }
   ],
   "source": [
    "# combine the weeks in the covid df\n",
    "import datetime\n",
    "min(covid.Date) + datetime.timedelta(6)\n",
    "#covid.groupby(by='Date').sum()[['ConfirmedCases']]\n",
    "# look up pd.Grouper\n",
    "# https://stackoverflow.com/questions/45281297/group-by-week-in-pandas/45281418"
   ]
  },
  {
   "cell_type": "code",
   "execution_count": null,
   "metadata": {},
   "outputs": [
    {
     "name": "stdout",
     "output_type": "stream",
     "text": [
      "<class 'pandas.core.frame.DataFrame'>\n",
      "RangeIndex: 24990 entries, 0 to 24989\n",
      "Data columns (total 46 columns):\n",
      " #   Column                                 Non-Null Count  Dtype         \n",
      "---  ------                                 --------------  -----         \n",
      " 0   Date                                   24990 non-null  datetime64[ns]\n",
      " 1   C1_School closing                      24982 non-null  float64       \n",
      " 2   C1_Flag                                22351 non-null  float64       \n",
      " 3   C2_Workplace closing                   24950 non-null  float64       \n",
      " 4   C2_Flag                                22077 non-null  float64       \n",
      " 5   C3_Cancel public events                24969 non-null  float64       \n",
      " 6   C3_Flag                                22487 non-null  float64       \n",
      " 7   C4_Restrictions on gatherings          24990 non-null  float64       \n",
      " 8   C4_Flag                                19050 non-null  float64       \n",
      " 9   C5_Close public transport              24971 non-null  float64       \n",
      " 10  C5_Flag                                10171 non-null  float64       \n",
      " 11  C6_Stay at home requirements           24962 non-null  float64       \n",
      " 12  C6_Flag                                20502 non-null  float64       \n",
      " 13  C7_Restrictions on internal movement   24927 non-null  float64       \n",
      " 14  C7_Flag                                22315 non-null  float64       \n",
      " 15  C8_International travel controls       24959 non-null  float64       \n",
      " 16  E1_Income support                      24918 non-null  float64       \n",
      " 17  E1_Flag                                20016 non-null  float64       \n",
      " 18  E2_Debt/contract relief                24918 non-null  float64       \n",
      " 19  E3_Fiscal measures                     10364 non-null  float64       \n",
      " 20  E4_International support               10236 non-null  float64       \n",
      " 21  H1_Public information campaigns        24981 non-null  float64       \n",
      " 22  H1_Flag                                23853 non-null  float64       \n",
      " 23  H2_Testing policy                      24980 non-null  float64       \n",
      " 24  H3_Contact tracing                     24937 non-null  float64       \n",
      " 25  H4_Emergency investment in healthcare  10129 non-null  float64       \n",
      " 26  H5_Investment in vaccines              10305 non-null  float64       \n",
      " 27  H6_Facial Coverings                    24520 non-null  float64       \n",
      " 28  H6_Flag                                20962 non-null  float64       \n",
      " 29  H7_Vaccination policy                  9068 non-null   float64       \n",
      " 30  H7_Flag                                8335 non-null   float64       \n",
      " 31  H8_Protection of elderly people        24834 non-null  float64       \n",
      " 32  H8_Flag                                22430 non-null  float64       \n",
      " 33  ConfirmedCases                         24990 non-null  float64       \n",
      " 34  ConfirmedDeaths                        24990 non-null  float64       \n",
      " 35  StringencyIndex                        24938 non-null  float64       \n",
      " 36  StringencyIndexForDisplay              24938 non-null  float64       \n",
      " 37  StringencyLegacyIndex                  24961 non-null  float64       \n",
      " 38  StringencyLegacyIndexForDisplay        24961 non-null  float64       \n",
      " 39  GovernmentResponseIndex                24924 non-null  float64       \n",
      " 40  GovernmentResponseIndexForDisplay      24990 non-null  float64       \n",
      " 41  ContainmentHealthIndex                 24990 non-null  float64       \n",
      " 42  ContainmentHealthIndexForDisplay       24990 non-null  float64       \n",
      " 43  EconomicSupportIndex                   24990 non-null  float64       \n",
      " 44  EconomicSupportIndexForDisplay         24990 non-null  float64       \n",
      " 45  state                                  24990 non-null  object        \n",
      "dtypes: datetime64[ns](1), float64(44), object(1)\n",
      "memory usage: 8.8+ MB\n"
     ]
    }
   ],
   "source": [
    "covid.info()"
   ]
  },
  {
   "cell_type": "code",
   "execution_count": null,
   "metadata": {},
   "outputs": [],
   "source": []
  },
  {
   "cell_type": "code",
   "execution_count": null,
   "metadata": {},
   "outputs": [
    {
     "ename": "NameError",
     "evalue": "name 'test_covid' is not defined",
     "output_type": "error",
     "traceback": [
      "\u001b[1;31m---------------------------------------------------------------------------\u001b[0m",
      "\u001b[1;31mNameError\u001b[0m                                 Traceback (most recent call last)",
      "\u001b[1;32m~\\AppData\\Local\\Temp/ipykernel_15608/1378993233.py\u001b[0m in \u001b[0;36m<module>\u001b[1;34m\u001b[0m\n\u001b[0;32m      1\u001b[0m \u001b[0mweekly_covid\u001b[0m \u001b[1;33m=\u001b[0m \u001b[0mcopy\u001b[0m\u001b[1;33m.\u001b[0m\u001b[0mdeepcopy\u001b[0m\u001b[1;33m(\u001b[0m\u001b[0mcovid\u001b[0m\u001b[1;33m)\u001b[0m\u001b[1;33m\u001b[0m\u001b[1;33m\u001b[0m\u001b[0m\n\u001b[1;32m----> 2\u001b[1;33m \u001b[0mweekly_covid\u001b[0m \u001b[1;33m=\u001b[0m \u001b[0mtest_covid\u001b[0m\u001b[1;33m.\u001b[0m\u001b[0mgroupby\u001b[0m\u001b[1;33m(\u001b[0m\u001b[1;34m'state'\u001b[0m\u001b[1;33m)\u001b[0m\u001b[1;33m.\u001b[0m\u001b[0mmean\u001b[0m\u001b[1;33m(\u001b[0m\u001b[1;33m)\u001b[0m\u001b[1;31m#,pd.Grouper(key='Date', freq='W-FRI')], dropna=False\u001b[0m\u001b[1;33m\u001b[0m\u001b[1;33m\u001b[0m\u001b[0m\n\u001b[0m\u001b[0;32m      3\u001b[0m \u001b[1;33m\u001b[0m\u001b[0m\n\u001b[0;32m      4\u001b[0m \u001b[0mweekly_covid\u001b[0m\u001b[1;33m.\u001b[0m\u001b[0mreset_index\u001b[0m\u001b[1;33m(\u001b[0m\u001b[0minplace\u001b[0m\u001b[1;33m=\u001b[0m\u001b[1;32mTrue\u001b[0m\u001b[1;33m,\u001b[0m \u001b[0mdrop\u001b[0m\u001b[1;33m=\u001b[0m\u001b[1;32mFalse\u001b[0m\u001b[1;33m)\u001b[0m\u001b[1;33m\u001b[0m\u001b[1;33m\u001b[0m\u001b[0m\n\u001b[0;32m      5\u001b[0m \u001b[0mweekly_covid\u001b[0m\u001b[1;33m.\u001b[0m\u001b[0minfo\u001b[0m\u001b[1;33m(\u001b[0m\u001b[1;33m)\u001b[0m\u001b[1;33m\u001b[0m\u001b[1;33m\u001b[0m\u001b[0m\n",
      "\u001b[1;31mNameError\u001b[0m: name 'test_covid' is not defined"
     ]
    }
   ],
   "source": [
    "weekly_covid = copy.deepcopy(covid)\n",
    "weekly_covid = test_covid.groupby('state').mean()#,pd.Grouper(key='Date', freq='W-FRI')], dropna=False\n",
    "\n",
    "weekly_covid.reset_index(inplace=True, drop=False)\n",
    "weekly_covid.info()"
   ]
  },
  {
   "cell_type": "code",
   "execution_count": null,
   "metadata": {},
   "outputs": [],
   "source": [
    "weekly_covid.info()"
   ]
  },
  {
   "cell_type": "code",
   "execution_count": null,
   "metadata": {},
   "outputs": [],
   "source": []
  },
  {
   "cell_type": "code",
   "execution_count": null,
   "metadata": {},
   "outputs": [],
   "source": []
  },
  {
   "cell_type": "markdown",
   "id": "e5bea558",
   "metadata": {},
   "source": [
    "---\n",
    "## EDA\n",
    "---"
   ]
  },
  {
   "cell_type": "markdown",
   "id": "184523d1",
   "metadata": {},
   "source": [
    "---\n",
    "### Graph to compare Cases and Deaths over time\n",
    "--"
   ]
  },
  {
   "cell_type": "code",
   "execution_count": null,
   "id": "1404d5a5",
   "metadata": {
    "scrolled": true
   },
   "outputs": [],
   "source": [
    "# get an idea of how the cases and deaths align over time when scaled\n",
    "fig, ax1 = plt.subplots(figsize=(12,5))\n",
    "\n",
    "# plot conf_cases\n",
    "color = 'tab:red'\n",
    "ax1.set_xlabel('Dates')\n",
    "ax1.set_ylabel('Confirmed Casess')\n",
    "ax1.plot(covid.groupby(by='Date').sum()['ConfirmedCases'], color=color, label='Conf_Cases')\n",
    "ax1.tick_params(axis='y', labelcolor=color)\n",
    "\n",
    "# add additional axes to same plot\n",
    "ax2 = ax1.twinx()\n",
    "\n",
    "# plot conf_deaths\n",
    "color = 'tab:blue'\n",
    "ax2.set_ylabel('Confirmed Deaths')\n",
    "ax2.plot(covid.groupby(by='Date').sum()['ConfirmedDeaths'], color=color, label='Conf_Deaths')\n",
    "ax2.tick_params(axis='y', labelcolor=color)\n",
    "\n",
    "# prevent any offsets\n",
    "fig.tight_layout()\n",
    "\n",
    "# get plotted objects and their labels\n",
    "lines, labels = ax1.get_legend_handles_labels()\n",
    "lines2, labels2 = ax2.get_legend_handles_labels()\n",
    "ax2.legend(lines + lines2, labels + labels2, loc='lower right')\n",
    "ax2.set_title('Explore the Similarity in Tranjectories of Cases and Deaths')\n",
    "ax2.legend(lines + lines2, labels + labels2, loc=0)\n",
    "plt.show()"
   ]
  },
  {
   "cell_type": "code",
   "execution_count": null,
   "id": "b5a5c097",
   "metadata": {},
   "outputs": [],
   "source": [
    "covid"
   ]
  },
  {
   "cell_type": "code",
   "execution_count": null,
   "id": "db046c0f",
   "metadata": {},
   "outputs": [],
   "source": []
  },
  {
   "cell_type": "code",
   "execution_count": null,
   "metadata": {},
   "outputs": [],
   "source": []
  }
 ],
 "metadata": {
  "interpreter": {
   "hash": "72bdf5965f8853706df804b61e58d3b5b8a5129316cfb398775b1cdf8ce83496"
  },
  "kernelspec": {
   "display_name": "Python 3.8.12 64-bit ('capstone': conda)",
   "name": "python3"
  },
  "language_info": {
   "codemirror_mode": {
    "name": "ipython",
    "version": 3
   },
   "file_extension": ".py",
   "mimetype": "text/x-python",
   "name": "python",
   "nbconvert_exporter": "python",
   "pygments_lexer": "ipython3",
   "version": "3.8.12"
  }
 },
 "nbformat": 4,
 "nbformat_minor": 5
}
